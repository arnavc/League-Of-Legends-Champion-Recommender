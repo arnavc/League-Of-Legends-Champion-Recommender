{
 "cells": [
  {
   "cell_type": "code",
   "execution_count": 1,
   "metadata": {
    "collapsed": true
   },
   "outputs": [],
   "source": [
    "import csv"
   ]
  },
  {
   "cell_type": "code",
   "execution_count": 11,
   "metadata": {},
   "outputs": [],
   "source": [
    "path = '/Users/arnavc/galvanize/capstone/data/league2016/ChampId2Name.csv'\n",
    "reader = csv.reader(open(path))"
   ]
  },
  {
   "cell_type": "code",
   "execution_count": 12,
   "metadata": {},
   "outputs": [],
   "source": [
    "result = {}\n",
    "for row in reader:\n",
    "    key = row[0]\n",
    "    result[key] = row[1:]"
   ]
  },
  {
   "cell_type": "code",
   "execution_count": 13,
   "metadata": {},
   "outputs": [
    {
     "name": "stdout",
     "output_type": "stream",
     "text": [
      "{'ChampId': ['ChampName'], '1': ['Annie'], '2': ['Olaf'], '3': ['Galio'], '4': ['Twisted Fate'], '5': ['Xin Zhao'], '6': ['Urgot'], '7': ['LeBlanc'], '8': ['Vladimir'], '9': ['Fiddlesticks'], '10': ['Kayle'], '11': ['Master Yi'], '12': ['Alistar'], '13': ['Ryze'], '14': ['Sion'], '15': ['Sivir'], '16': ['Soraka'], '17': ['Teemo'], '18': ['Tristana'], '19': ['Warwick'], '20': ['Nunu'], '21': ['Miss Fortune'], '22': ['Ashe'], '23': ['Tryndamere'], '24': ['Jax'], '25': ['Morgana'], '26': ['Zilean'], '27': ['Singed'], '28': ['Evelynn'], '29': ['Twitch'], '30': ['Karthus'], '31': [\"Cho'Gath\"], '32': ['Amumu'], '33': ['Rammus'], '34': ['Anivia'], '35': ['Shaco'], '36': ['Dr. Mundo'], '37': ['Sona'], '38': ['Kassadin'], '39': ['Irelia'], '40': ['Janna'], '41': ['Gangplank'], '42': ['Corki'], '43': ['Karma'], '44': ['Taric'], '45': ['Veigar'], '48': ['Trundle'], '50': ['Swain'], '51': ['Caitlyn'], '53': ['Blitzcrank'], '54': ['Malphite'], '55': ['Katarina'], '56': ['Nocturne'], '57': ['Maokai'], '58': ['Renekton'], '59': ['Jarvan IV'], '60': ['Elise'], '61': ['Orianna'], '62': ['Wukong'], '63': ['Brand'], '64': ['Lee Sin'], '67': ['Vayne'], '68': ['Rumble'], '69': ['Cassiopeia'], '72': ['Skarner'], '74': ['Heimerdinger'], '75': ['Nasus'], '76': ['Nidalee'], '77': ['Udyr'], '78': ['Poppy'], '79': ['Gragas'], '80': ['Pantheon'], '81': ['Ezreal'], '82': ['Mordekaiser'], '83': ['Yorick'], '84': ['Akali'], '85': ['Kennen'], '86': ['Garen'], '89': ['Leona'], '90': ['Malzahar'], '91': ['Talon'], '92': ['Riven'], '96': [\"Kog'Maw\"], '98': ['Shen'], '99': ['Lux'], '101': ['Xerath'], '102': ['Shyvana'], '103': ['Ahri'], '104': ['Graves'], '105': ['Fizz'], '106': ['Volibear'], '107': ['Rengar'], '110': ['Varus'], '111': ['Nautilus'], '112': ['Viktor'], '113': ['Sejuani'], '114': ['Fiora'], '115': ['Ziggs'], '117': ['Lulu'], '119': ['Draven'], '120': ['Hecarim'], '121': [\"Kha'Zix\"], '122': ['Darius'], '126': ['Jayce'], '127': ['Lissandra'], '131': ['Diana'], '133': ['Quinn'], '134': ['Syndra'], '136': ['Aurelion Sol'], '143': ['Zyra'], '150': ['Gnar'], '154': ['Zac'], '157': ['Yasuo'], '161': [\"Vel'Koz\"], '163': ['Taliyah'], '164': ['Camille'], '201': ['Braum'], '202': ['Jhin'], '203': ['Kindred'], '222': ['Jinx'], '223': ['Tahm Kench'], '236': ['Lucian'], '238': ['Zed'], '240': ['Kled'], '245': ['Ekko'], '254': ['Vi'], '266': ['Aatrox'], '267': ['Nami'], '268': ['Azir'], '412': ['Thresh'], '420': ['Illaoi'], '421': [\"Rek'Sai\"], '427': ['Ivern'], '429': ['Kalista'], '432': ['Bard']}\n"
     ]
    }
   ],
   "source": [
    "print(result)"
   ]
  },
  {
   "cell_type": "code",
   "execution_count": 19,
   "metadata": {},
   "outputs": [
    {
     "data": {
      "text/plain": [
       "['Annie']"
      ]
     },
     "execution_count": 19,
     "metadata": {},
     "output_type": "execute_result"
    }
   ],
   "source": [
    "24984369\n",
    "20968379"
   ]
  },
  {
   "cell_type": "code",
   "execution_count": 20,
   "metadata": {
    "collapsed": true
   },
   "outputs": [],
   "source": [
    "champ_list = ['157', '81', '202', '238', '75', '236']"
   ]
  },
  {
   "cell_type": "code",
   "execution_count": 24,
   "metadata": {},
   "outputs": [],
   "source": [
    "champ_name = []\n",
    "for c in champ_list:\n",
    "    champ_name.append(result[c])"
   ]
  },
  {
   "cell_type": "code",
   "execution_count": 25,
   "metadata": {},
   "outputs": [
    {
     "data": {
      "text/plain": [
       "[['Yasuo'], ['Ezreal'], ['Jhin'], ['Zed'], ['Nasus'], ['Lucian']]"
      ]
     },
     "execution_count": 25,
     "metadata": {},
     "output_type": "execute_result"
    }
   ],
   "source": [
    "champ_name"
   ]
  },
  {
   "cell_type": "code",
   "execution_count": 26,
   "metadata": {
    "collapsed": true
   },
   "outputs": [],
   "source": [
    "index= [1,3,4,6,7,8]"
   ]
  },
  {
   "cell_type": "code",
   "execution_count": 27,
   "metadata": {
    "collapsed": true
   },
   "outputs": [],
   "source": [
    "champ_dict = {}\n",
    "def abc(i):\n",
    "    return 2*i"
   ]
  },
  {
   "cell_type": "code",
   "execution_count": 28,
   "metadata": {},
   "outputs": [
    {
     "name": "stdout",
     "output_type": "stream",
     "text": [
      "{1: 2, 3: 6, 4: 8, 6: 12, 7: 14, 8: 16}\n"
     ]
    }
   ],
   "source": [
    "for i in index:\n",
    "    champ_dict[i] = abc(i)\n",
    "\n",
    "print(champ_dict)"
   ]
  },
  {
   "cell_type": "code",
   "execution_count": 29,
   "metadata": {
    "collapsed": true
   },
   "outputs": [],
   "source": [
    "champ_dict_name = {}\n",
    "for k, v in champ_dict.items():\n",
    "    champ_dict_name[k] = abc(v)"
   ]
  },
  {
   "cell_type": "code",
   "execution_count": 30,
   "metadata": {},
   "outputs": [
    {
     "data": {
      "text/plain": [
       "{1: 4, 3: 12, 4: 16, 6: 24, 7: 28, 8: 32}"
      ]
     },
     "execution_count": 30,
     "metadata": {},
     "output_type": "execute_result"
    }
   ],
   "source": [
    "champ_dict_name"
   ]
  },
  {
   "cell_type": "code",
   "execution_count": 31,
   "metadata": {
    "collapsed": true
   },
   "outputs": [],
   "source": [
    "a = {'1': [1,2,3], '2':[3,4,5], '3':[6,5,1]}"
   ]
  },
  {
   "cell_type": "code",
   "execution_count": 32,
   "metadata": {},
   "outputs": [
    {
     "data": {
      "text/plain": [
       "{'1': [1, 2, 3], '2': [3, 4, 5], '3': [6, 5, 1]}"
      ]
     },
     "execution_count": 32,
     "metadata": {},
     "output_type": "execute_result"
    }
   ],
   "source": [
    "a"
   ]
  },
  {
   "cell_type": "code",
   "execution_count": 33,
   "metadata": {
    "collapsed": true
   },
   "outputs": [],
   "source": [
    "b = {}\n",
    "for k, v in a.items():\n",
    "    b[k] = abc(v)"
   ]
  },
  {
   "cell_type": "code",
   "execution_count": 34,
   "metadata": {},
   "outputs": [
    {
     "data": {
      "text/plain": [
       "{'1': [1, 2, 3, 1, 2, 3], '2': [3, 4, 5, 3, 4, 5], '3': [6, 5, 1, 6, 5, 1]}"
      ]
     },
     "execution_count": 34,
     "metadata": {},
     "output_type": "execute_result"
    }
   ],
   "source": [
    "b"
   ]
  },
  {
   "cell_type": "code",
   "execution_count": null,
   "metadata": {
    "collapsed": true
   },
   "outputs": [],
   "source": []
  }
 ],
 "metadata": {
  "kernelspec": {
   "display_name": "Python 3",
   "language": "python",
   "name": "python3"
  },
  "language_info": {
   "codemirror_mode": {
    "name": "ipython",
    "version": 3
   },
   "file_extension": ".py",
   "mimetype": "text/x-python",
   "name": "python",
   "nbconvert_exporter": "python",
   "pygments_lexer": "ipython3",
   "version": "3.6.0"
  }
 },
 "nbformat": 4,
 "nbformat_minor": 2
}
